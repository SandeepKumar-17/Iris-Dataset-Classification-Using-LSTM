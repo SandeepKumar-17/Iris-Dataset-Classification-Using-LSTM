{
  "nbformat": 4,
  "nbformat_minor": 0,
  "metadata": {
    "colab": {
      "provenance": [],
      "authorship_tag": "ABX9TyMoyw0yjenzEwLg6aSeJQ2T",
      "include_colab_link": true
    },
    "kernelspec": {
      "name": "python3",
      "display_name": "Python 3"
    },
    "language_info": {
      "name": "python"
    }
  },
  "cells": [
    {
      "cell_type": "markdown",
      "metadata": {
        "id": "view-in-github",
        "colab_type": "text"
      },
      "source": [
        "<a href=\"https://colab.research.google.com/github/SandeepKumar-17/Iris-Dataset-Classification-Using-LSTM/blob/main/IrisClassification.ipynb\" target=\"_parent\"><img src=\"https://colab.research.google.com/assets/colab-badge.svg\" alt=\"Open In Colab\"/></a>"
      ]
    },
    {
      "cell_type": "code",
      "execution_count": 29,
      "metadata": {
        "colab": {
          "base_uri": "https://localhost:8080/"
        },
        "id": "H0GWThN3Xrhg",
        "outputId": "5ea266c2-9b0b-4213-f348-ec3e129b7ce1"
      },
      "outputs": [
        {
          "output_type": "stream",
          "name": "stdout",
          "text": [
            "Epoch 1/10\n"
          ]
        },
        {
          "output_type": "stream",
          "name": "stderr",
          "text": [
            "/usr/local/lib/python3.10/dist-packages/keras/src/layers/rnn/rnn.py:204: UserWarning: Do not pass an `input_shape`/`input_dim` argument to a layer. When using Sequential models, prefer using an `Input(shape)` object as the first layer in the model instead.\n",
            "  super().__init__(**kwargs)\n"
          ]
        },
        {
          "output_type": "stream",
          "name": "stdout",
          "text": [
            "\r\u001b[1m 1/12\u001b[0m \u001b[32m━\u001b[0m\u001b[37m━━━━━━━━━━━━━━━━━━━\u001b[0m \u001b[1m17s\u001b[0m 2s/step - accuracy: 0.0000e+00 - loss: 1.1336"
          ]
        },
        {
          "output_type": "stream",
          "name": "stderr",
          "text": [
            "Exception ignored in: <function _xla_gc_callback at 0x7f29cb29a8c0>\n",
            "Traceback (most recent call last):\n",
            "  File \"/usr/local/lib/python3.10/dist-packages/jax/_src/lib/__init__.py\", line 96, in _xla_gc_callback\n",
            "    def _xla_gc_callback(*args):\n",
            "KeyboardInterrupt: \n"
          ]
        },
        {
          "output_type": "stream",
          "name": "stdout",
          "text": [
            "\b\b\b\b\b\b\b\b\b\b\b\b\b\b\b\b\b\b\b\b\b\b\b\b\b\b\b\b\b\b\b\b\b\b\b\b\b\b\b\b\b\b\b\b\b\b\b\b\b\b\b\b\b\b\b\b\b\b\b\b\b\b\b\b\b\b\b\b\b\b\b\b\b\b\b\b\r\u001b[1m12/12\u001b[0m \u001b[32m━━━━━━━━━━━━━━━━━━━━\u001b[0m\u001b[37m\u001b[0m \u001b[1m27s\u001b[0m 2s/step - accuracy: 0.1050 - loss: 1.1291 - val_accuracy: 0.2083 - val_loss: 1.0973\n",
            "Epoch 2/10\n",
            "\u001b[1m12/12\u001b[0m \u001b[32m━━━━━━━━━━━━━━━━━━━━\u001b[0m\u001b[37m\u001b[0m \u001b[1m16s\u001b[0m 5ms/step - accuracy: 0.3771 - loss: 1.0889 - val_accuracy: 0.5833 - val_loss: 1.0642\n",
            "Epoch 3/10\n",
            "\u001b[1m12/12\u001b[0m \u001b[32m━━━━━━━━━━━━━━━━━━━━\u001b[0m\u001b[37m\u001b[0m \u001b[1m0s\u001b[0m 5ms/step - accuracy: 0.7070 - loss: 1.0508 - val_accuracy: 0.7500 - val_loss: 1.0304\n",
            "Epoch 4/10\n",
            "\u001b[1m12/12\u001b[0m \u001b[32m━━━━━━━━━━━━━━━━━━━━\u001b[0m\u001b[37m\u001b[0m \u001b[1m0s\u001b[0m 5ms/step - accuracy: 0.7914 - loss: 1.0083 - val_accuracy: 0.7500 - val_loss: 0.9902\n",
            "Epoch 5/10\n",
            "\u001b[1m12/12\u001b[0m \u001b[32m━━━━━━━━━━━━━━━━━━━━\u001b[0m\u001b[37m\u001b[0m \u001b[1m0s\u001b[0m 5ms/step - accuracy: 0.8047 - loss: 0.9692 - val_accuracy: 0.7500 - val_loss: 0.9444\n",
            "Epoch 6/10\n",
            "\u001b[1m12/12\u001b[0m \u001b[32m━━━━━━━━━━━━━━━━━━━━\u001b[0m\u001b[37m\u001b[0m \u001b[1m0s\u001b[0m 6ms/step - accuracy: 0.8282 - loss: 0.9054 - val_accuracy: 0.7917 - val_loss: 0.8940\n",
            "Epoch 7/10\n",
            "\u001b[1m12/12\u001b[0m \u001b[32m━━━━━━━━━━━━━━━━━━━━\u001b[0m\u001b[37m\u001b[0m \u001b[1m0s\u001b[0m 6ms/step - accuracy: 0.8112 - loss: 0.8701 - val_accuracy: 0.7500 - val_loss: 0.8383\n",
            "Epoch 8/10\n",
            "\u001b[1m12/12\u001b[0m \u001b[32m━━━━━━━━━━━━━━━━━━━━\u001b[0m\u001b[37m\u001b[0m \u001b[1m0s\u001b[0m 5ms/step - accuracy: 0.8162 - loss: 0.8347 - val_accuracy: 0.7917 - val_loss: 0.7811\n",
            "Epoch 9/10\n",
            "\u001b[1m12/12\u001b[0m \u001b[32m━━━━━━━━━━━━━━━━━━━━\u001b[0m\u001b[37m\u001b[0m \u001b[1m0s\u001b[0m 6ms/step - accuracy: 0.8223 - loss: 0.6901 - val_accuracy: 0.7917 - val_loss: 0.7226\n",
            "Epoch 10/10\n",
            "\u001b[1m12/12\u001b[0m \u001b[32m━━━━━━━━━━━━━━━━━━━━\u001b[0m\u001b[37m\u001b[0m \u001b[1m0s\u001b[0m 8ms/step - accuracy: 0.8022 - loss: 0.6675 - val_accuracy: 0.7917 - val_loss: 0.6679\n",
            "Model training completed\n"
          ]
        }
      ],
      "source": [
        "import numpy as np\n",
        "import pandas as pd\n",
        "from sklearn.model_selection import train_test_split\n",
        "from sklearn.preprocessing import LabelEncoder, StandardScaler\n",
        "from sklearn.metrics import accuracy_score, classification_report\n",
        "import tensorflow as tf\n",
        "from tensorflow.keras.models import Sequential\n",
        "from tensorflow.keras.layers import LSTM, Dense\n",
        "from tensorflow.keras.utils import to_categorical\n",
        "\n",
        "# Data Preparation Class\n",
        "class DataPreparation:\n",
        "    def __init__(self, test_size=0.2, random_state=42):\n",
        "        self.test_size = test_size\n",
        "        self.random_state = random_state\n",
        "        self.encoder = LabelEncoder()\n",
        "        self.scaler = StandardScaler()\n",
        "\n",
        "    def load_data(self):\n",
        "        from sklearn.datasets import load_iris\n",
        "        iris = load_iris()\n",
        "        X = iris.data\n",
        "        y = iris.target\n",
        "        return X, y\n",
        "\n",
        "    def preprocess_data(self, X, y):\n",
        "        # Scaling the features\n",
        "        X = self.scaler.fit_transform(X)\n",
        "        # Encoding the target labels\n",
        "        y = self.encoder.fit_transform(y)\n",
        "        y = to_categorical(y, num_classes=3)  # One-hot encoding\n",
        "        # Reshaping for LSTM\n",
        "        X = X.reshape(X.shape[0], 1, X.shape[1])\n",
        "        return X, y\n",
        "\n",
        "    def split_data(self, X, y):\n",
        "        return train_test_split(X, y, test_size=self.test_size, random_state=self.random_state)\n",
        "\n",
        "# Model Definition Class\n",
        "class LSTMClassifier:\n",
        "    def __init__(self, input_shape, num_classes, units=50, learning_rate=0.001):\n",
        "        self.input_shape = input_shape\n",
        "        self.num_classes = num_classes\n",
        "        self.units = units\n",
        "        self.learning_rate = learning_rate\n",
        "        self.model = self.build_model()\n",
        "\n",
        "    def build_model(self):\n",
        "        model = Sequential()\n",
        "        model.add(LSTM(self.units, input_shape=self.input_shape, activation='relu'))\n",
        "        model.add(Dense(self.num_classes, activation='softmax'))\n",
        "        model.compile(optimizer=tf.keras.optimizers.Adam(learning_rate=self.learning_rate),\n",
        "                      loss='categorical_crossentropy',\n",
        "                      metrics=['accuracy'])\n",
        "        return model\n",
        "\n",
        "    def train(self, X_train, y_train, epochs=50, batch_size=8):\n",
        "        history = self.model.fit(X_train, y_train, epochs=epochs, batch_size=batch_size, validation_split=0.2)\n",
        "        return history\n",
        "\n",
        "    def evaluate(self, X_test, y_test):\n",
        "        return self.model.evaluate(X_test, y_test)\n",
        "\n",
        "    def predict(self, X):\n",
        "        return np.argmax(self.model.predict(X), axis=1)\n",
        "\n",
        "# Evaluation Class\n",
        "# class ModelEvaluation:\n",
        "#     def __init__(self, model, label_encoder):\n",
        "#         self.model = model\n",
        "#         self.label_encoder = label_encoder\n",
        "\n",
        "#     def evaluate_model(self, X_test, y_test):\n",
        "#         y_pred = self.model.predict(X_test)\n",
        "#         y_true = np.argmax(y_test, axis=1)\n",
        "#         accuracy = accuracy_score(y_true, y_pred)\n",
        "#         report = classification_report(y_test, y_pred, target_names=self.label_encoder.classes_)\n",
        "#         return accuracy,report\n",
        "\n",
        "# Main Pipeline\n",
        "if __name__ == \"__main__\":\n",
        "    # Initialize Data Preparation\n",
        "    data_prep = DataPreparation()\n",
        "    X, y = data_prep.load_data()\n",
        "    X, y = data_prep.preprocess_data(X, y)\n",
        "    X_train, X_test, y_train, y_test = data_prep.split_data(X, y)\n",
        "\n",
        "    # Initialize Model\n",
        "    input_shape = (X_train.shape[1], X_train.shape[2])\n",
        "    lstm_classifier = LSTMClassifier(input_shape=input_shape, num_classes=3)\n",
        "\n",
        "    # Train Model\n",
        "    lstm_classifier.train(X_train, y_train, epochs=1, batch_size=8)\n",
        "\n",
        "    # Evaluate Model\n",
        "    # evaluation = ModelEvaluation(lstm_classifier.model, data_prep.encoder)\n",
        "    # accuracy, report = evaluation.evaluate_model(X_test, y_test)\n",
        "\n",
        "    # y_pred = lstm_classifier.predict(X_test)\n",
        "    # y_true = np.argmax(y_test, axis=1)\n",
        "    # print(y_pred.shape)\n",
        "    # print(y_true.shape)\n",
        "    accuracy,report = model_evaluation(lstm_classifier.model,X_test,y_test)\n",
        "\n",
        "    # Output Results\n",
        "    print(\"Model Accuracy:\", accuracy)\n",
        "    print(\"Classification Report:\\n\", report)\n",
        "# print(y_true.shape)\n",
        "# print(y_pred.shape)"
      ]
    },
    {
      "cell_type": "code",
      "source": [
        "y_true = np.argmax(y_test, axis=1)\n",
        "y_pred = lstm_classifier.predict(X_test)\n",
        "accuracy_score(y_true,y_pred)"
      ],
      "metadata": {
        "colab": {
          "base_uri": "https://localhost:8080/"
        },
        "id": "GA1SH4yYas1B",
        "outputId": "ad93f3f8-6216-406d-a180-9a309c7b19bf"
      },
      "execution_count": 30,
      "outputs": [
        {
          "output_type": "stream",
          "name": "stdout",
          "text": [
            "\u001b[1m1/1\u001b[0m \u001b[32m━━━━━━━━━━━━━━━━━━━━\u001b[0m\u001b[37m\u001b[0m \u001b[1m0s\u001b[0m 176ms/step\n"
          ]
        },
        {
          "output_type": "execute_result",
          "data": {
            "text/plain": [
              "0.8333333333333334"
            ]
          },
          "metadata": {},
          "execution_count": 30
        }
      ]
    },
    {
      "cell_type": "code",
      "source": [
        "classification_report = classification_report(y_true,y_pred)"
      ],
      "metadata": {
        "id": "JhspuAkDXtTs"
      },
      "execution_count": 31,
      "outputs": []
    },
    {
      "cell_type": "code",
      "source": [
        "print(classification_report)"
      ],
      "metadata": {
        "colab": {
          "base_uri": "https://localhost:8080/"
        },
        "id": "7vfEqk7Hihf0",
        "outputId": "2c5f249b-f807-4cee-ce4c-7385186e19d1"
      },
      "execution_count": 33,
      "outputs": [
        {
          "output_type": "stream",
          "name": "stdout",
          "text": [
            "              precision    recall  f1-score   support\n",
            "\n",
            "           0       1.00      1.00      1.00        10\n",
            "           1       1.00      0.44      0.62         9\n",
            "           2       0.69      1.00      0.81        11\n",
            "\n",
            "    accuracy                           0.83        30\n",
            "   macro avg       0.90      0.81      0.81        30\n",
            "weighted avg       0.89      0.83      0.82        30\n",
            "\n"
          ]
        }
      ]
    },
    {
      "cell_type": "code",
      "source": [],
      "metadata": {
        "id": "HLfC7nPOii9M"
      },
      "execution_count": null,
      "outputs": []
    }
  ]
}